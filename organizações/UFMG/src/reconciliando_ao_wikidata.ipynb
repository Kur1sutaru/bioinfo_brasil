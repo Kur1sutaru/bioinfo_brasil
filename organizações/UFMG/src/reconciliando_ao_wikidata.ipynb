{
 "cells": [
  {
   "cell_type": "markdown",
   "metadata": {},
   "source": [
    "Reconciliação foi feita através do Google Sheets, usando o add-on \"Wikipedia and Wikidata Tools\"\n",
    "\n",
    "Nome completo foi utilizado como input para a função \"=WIKIDATASEARCH()\" e identificadores obtidos foram verificados com a função \"=WIKIDATADESCRIPTION\". \n",
    "\n",
    "Pesquisadores não mapeados automaticamente foram reconciliados pela plataforma Author Disambiguator.\n",
    "\n",
    "\n"
   ]
  },
  {
   "cell_type": "code",
   "execution_count": 42,
   "metadata": {},
   "outputs": [
    {
     "name": "stdout",
     "output_type": "stream",
     "text": [
      "mv: cannot stat '/home/lubianat/Downloads/sandbox.xlsx': No such file or directory\n"
     ]
    }
   ],
   "source": [
    "!  mv ~/Downloads/sandbox.xlsx ../docentes_ufmg.xslx "
   ]
  },
  {
   "cell_type": "code",
   "execution_count": 43,
   "metadata": {},
   "outputs": [],
   "source": [
    "import pandas as pd"
   ]
  },
  {
   "cell_type": "code",
   "execution_count": 44,
   "metadata": {},
   "outputs": [],
   "source": [
    "reconciliation = pd.read_excel(\"../docentes_ufmg.xslx\",sheet_name=\"reconciliation\")"
   ]
  },
  {
   "cell_type": "code",
   "execution_count": 45,
   "metadata": {},
   "outputs": [
    {
     "name": "stdout",
     "output_type": "stream",
     "text": [
      "                                nome         qid label      label2\n",
      "0            Carlos Alberto Tagliati   Q73310141    en  researcher\n",
      "1     Eduardo Martin Tarazona Santos  Q105620819    en  researcher\n",
      "2             Francisco Pereira Lobo   Q55876346    en  researcher\n",
      "3  Vasco Ariston de Carvalho Azevedo  Q105620834    en  researcher\n",
      "4         Ana Maria Caetano de Faria  Q105620872   NaN         NaN\n"
     ]
    }
   ],
   "source": [
    "print(reconciliation.head())"
   ]
  },
  {
   "cell_type": "code",
   "execution_count": 57,
   "metadata": {},
   "outputs": [],
   "source": [
    "\n",
    "from time import gmtime, strftime\n",
    "\n",
    "def print_quickstatements(df, prop, value, url, id_column=\"qid\", date=\"today\"):\n",
    "    \"\"\"\n",
    "    From a dataframe, print a series of statements \n",
    "    for Wikidata using Quickstatements V1 syntax. \n",
    "    \n",
    "    Args:\n",
    "        df: a pandas dataframe with ids in one column\n",
    "        \n",
    "        prop: the property to state (same for all)\n",
    "        \n",
    "        value: the value to state (same for all)\n",
    "        \n",
    "        url: the reference url\n",
    "        \n",
    "        id_column: the column with the subject ids. Defaults to \"qid\".\n",
    "        \n",
    "        date: the date of retrieval of the info in ISO 8601 format.\n",
    "        Defaults to magic word \"today\".\n",
    "    \n",
    "    \"\"\"\n",
    "    for i, row in reconciliation.iterrows():\n",
    "    \n",
    "        s = row[\"qid\"]\n",
    "        p = \"|\" + prop + \"|\"\n",
    "        o = value\n",
    "        rp1 = \"|S854|\"\n",
    "        rp2 = \"|S813|\"\n",
    "        ro1 = '\"' + url + '\"'\n",
    "\n",
    "\n",
    "        if date == \"today\":\n",
    "            ro2 = strftime(\"+%Y-%m-%dT00:00:00Z/11\", gmtime())\n",
    "        else:\n",
    "            ro2 = date\n",
    "\n",
    "        print(s+p+o+rp1+ro1+rp2+ro2)    \n"
   ]
  },
  {
   "cell_type": "code",
   "execution_count": 58,
   "metadata": {},
   "outputs": [
    {
     "name": "stdout",
     "output_type": "stream",
     "text": [
      "Q73310141|P1416|Q105481707|S854|\"http://www.pgbioinfo.icb.ufmg.br/corpodoc.php\"|S813|+2021-02-21T00:00:00Z/11\n",
      "Q105620819|P1416|Q105481707|S854|\"http://www.pgbioinfo.icb.ufmg.br/corpodoc.php\"|S813|+2021-02-21T00:00:00Z/11\n",
      "Q55876346|P1416|Q105481707|S854|\"http://www.pgbioinfo.icb.ufmg.br/corpodoc.php\"|S813|+2021-02-21T00:00:00Z/11\n",
      "Q105620834|P1416|Q105481707|S854|\"http://www.pgbioinfo.icb.ufmg.br/corpodoc.php\"|S813|+2021-02-21T00:00:00Z/11\n",
      "Q105620872|P1416|Q105481707|S854|\"http://www.pgbioinfo.icb.ufmg.br/corpodoc.php\"|S813|+2021-02-21T00:00:00Z/11\n",
      "Q89807827|P1416|Q105481707|S854|\"http://www.pgbioinfo.icb.ufmg.br/corpodoc.php\"|S813|+2021-02-21T00:00:00Z/11\n",
      "Q54378111|P1416|Q105481707|S854|\"http://www.pgbioinfo.icb.ufmg.br/corpodoc.php\"|S813|+2021-02-21T00:00:00Z/11\n",
      "Q101044620|P1416|Q105481707|S854|\"http://www.pgbioinfo.icb.ufmg.br/corpodoc.php\"|S813|+2021-02-21T00:00:00Z/11\n",
      "Q105620895|P1416|Q105481707|S854|\"http://www.pgbioinfo.icb.ufmg.br/corpodoc.php\"|S813|+2021-02-21T00:00:00Z/11\n",
      "Q42882579|P1416|Q105481707|S854|\"http://www.pgbioinfo.icb.ufmg.br/corpodoc.php\"|S813|+2021-02-21T00:00:00Z/11\n",
      "Q105620908|P1416|Q105481707|S854|\"http://www.pgbioinfo.icb.ufmg.br/corpodoc.php\"|S813|+2021-02-21T00:00:00Z/11\n",
      "Q60999928|P1416|Q105481707|S854|\"http://www.pgbioinfo.icb.ufmg.br/corpodoc.php\"|S813|+2021-02-21T00:00:00Z/11\n",
      "Q89636591|P1416|Q105481707|S854|\"http://www.pgbioinfo.icb.ufmg.br/corpodoc.php\"|S813|+2021-02-21T00:00:00Z/11\n",
      "Q55381430|P1416|Q105481707|S854|\"http://www.pgbioinfo.icb.ufmg.br/corpodoc.php\"|S813|+2021-02-21T00:00:00Z/11\n",
      "Q105620910|P1416|Q105481707|S854|\"http://www.pgbioinfo.icb.ufmg.br/corpodoc.php\"|S813|+2021-02-21T00:00:00Z/11\n",
      "Q105620913|P1416|Q105481707|S854|\"http://www.pgbioinfo.icb.ufmg.br/corpodoc.php\"|S813|+2021-02-21T00:00:00Z/11\n",
      "Q105481884|P1416|Q105481707|S854|\"http://www.pgbioinfo.icb.ufmg.br/corpodoc.php\"|S813|+2021-02-21T00:00:00Z/11\n",
      "Q102215218|P1416|Q105481707|S854|\"http://www.pgbioinfo.icb.ufmg.br/corpodoc.php\"|S813|+2021-02-21T00:00:00Z/11\n",
      "Q58227710|P1416|Q105481707|S854|\"http://www.pgbioinfo.icb.ufmg.br/corpodoc.php\"|S813|+2021-02-21T00:00:00Z/11\n",
      "Q81786981|P1416|Q105481707|S854|\"http://www.pgbioinfo.icb.ufmg.br/corpodoc.php\"|S813|+2021-02-21T00:00:00Z/11\n",
      "Q59678614|P1416|Q105481707|S854|\"http://www.pgbioinfo.icb.ufmg.br/corpodoc.php\"|S813|+2021-02-21T00:00:00Z/11\n",
      "Q30650637|P1416|Q105481707|S854|\"http://www.pgbioinfo.icb.ufmg.br/corpodoc.php\"|S813|+2021-02-21T00:00:00Z/11\n",
      "Q28743719|P1416|Q105481707|S854|\"http://www.pgbioinfo.icb.ufmg.br/corpodoc.php\"|S813|+2021-02-21T00:00:00Z/11\n",
      "Q56747816|P1416|Q105481707|S854|\"http://www.pgbioinfo.icb.ufmg.br/corpodoc.php\"|S813|+2021-02-21T00:00:00Z/11\n",
      "Q38326817|P1416|Q105481707|S854|\"http://www.pgbioinfo.icb.ufmg.br/corpodoc.php\"|S813|+2021-02-21T00:00:00Z/11\n",
      "Q39183772|P1416|Q105481707|S854|\"http://www.pgbioinfo.icb.ufmg.br/corpodoc.php\"|S813|+2021-02-21T00:00:00Z/11\n",
      "Q41905720|P1416|Q105481707|S854|\"http://www.pgbioinfo.icb.ufmg.br/corpodoc.php\"|S813|+2021-02-21T00:00:00Z/11\n",
      "Q55188530|P1416|Q105481707|S854|\"http://www.pgbioinfo.icb.ufmg.br/corpodoc.php\"|S813|+2021-02-21T00:00:00Z/11\n",
      "Q41733514|P1416|Q105481707|S854|\"http://www.pgbioinfo.icb.ufmg.br/corpodoc.php\"|S813|+2021-02-21T00:00:00Z/11\n",
      "Q80618264|P1416|Q105481707|S854|\"http://www.pgbioinfo.icb.ufmg.br/corpodoc.php\"|S813|+2021-02-21T00:00:00Z/11\n",
      "Q56549149|P1416|Q105481707|S854|\"http://www.pgbioinfo.icb.ufmg.br/corpodoc.php\"|S813|+2021-02-21T00:00:00Z/11\n",
      "Q59259875|P1416|Q105481707|S854|\"http://www.pgbioinfo.icb.ufmg.br/corpodoc.php\"|S813|+2021-02-21T00:00:00Z/11\n",
      "Q56992684|P1416|Q105481707|S854|\"http://www.pgbioinfo.icb.ufmg.br/corpodoc.php\"|S813|+2021-02-21T00:00:00Z/11\n"
     ]
    }
   ],
   "source": [
    "print_quickstatements(reconciliation, \n",
    "                      prop=\"P1416\",\n",
    "                      value=\"Q105481707\",\n",
    "                      url = \"http://www.pgbioinfo.icb.ufmg.br/corpodoc.php\")"
   ]
  },
  {
   "cell_type": "code",
   "execution_count": null,
   "metadata": {},
   "outputs": [],
   "source": []
  }
 ],
 "metadata": {
  "kernelspec": {
   "display_name": "Python 3.6.9 64-bit",
   "language": "python",
   "name": "python36964bitd70dcd0ebb2344189de0a1765c180dbd"
  },
  "language_info": {
   "codemirror_mode": {
    "name": "ipython",
    "version": 3
   },
   "file_extension": ".py",
   "mimetype": "text/x-python",
   "name": "python",
   "nbconvert_exporter": "python",
   "pygments_lexer": "ipython3",
   "version": "3.6.9"
  }
 },
 "nbformat": 4,
 "nbformat_minor": 4
}
