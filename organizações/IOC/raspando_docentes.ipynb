{
 "cells": [
  {
   "cell_type": "code",
   "execution_count": 2,
   "metadata": {},
   "outputs": [],
   "source": [
    "from bs4 import BeautifulSoup\n",
    "\n",
    "import requests\n",
    "page = requests.get(\"https://pgbcs.ioc.fiocruz.br/perfil-e-contatos\")\n",
    "soup = BeautifulSoup(page.content, 'html.parser')"
   ]
  },
  {
   "cell_type": "code",
   "execution_count": 12,
   "metadata": {},
   "outputs": [],
   "source": [
    "import pandas as pd\n",
    "table = soup.find('table')\n",
    "rows = table.find_all('tr')\n",
    "data = []\n",
    "for row in rows[1:]:\n",
    "    cols = row.find_all('td')\n",
    "    cols = [ele.text.strip() for ele in cols]\n",
    "    data.append([ele for ele in cols if ele])\n",
    "\n",
    "result = pd.DataFrame(data)\n"
   ]
  },
  {
   "cell_type": "code",
   "execution_count": 15,
   "metadata": {},
   "outputs": [
    {
     "data": {
      "text/plain": [
       "0        Alberto Martin Rivera Dávila\n",
       "1          Ana Carolina Paulo Vicente\n",
       "2        Ana Carolina Ramos Guimarães\n",
       "3          Antonio Basílio de Miranda\n",
       "4       Daniel Antunes Maciel Villela\n",
       "5              Ernesto Raúl Caffarena\n",
       "6                      Fabio Passetti\n",
       "7     Fabricio Alves Barbosa da Silva\n",
       "8                Flavio Codeco Coelho\n",
       "9          Floriano Paes Silva Júnior\n",
       "10            Gonzalo Bello Bentancor\n",
       "11            Jerônimo Conceição Ruiz\n",
       "12     João Hermínio Martins da Silva\n",
       "13             Leonardo Soares Bastos\n",
       "14        Letícia Miranda Lery Santos\n",
       "15      Marcos Paulo Catanho de Souza\n",
       "16     Mauricio Garcia de Souza Costa\n",
       "17                     Nícolas Carels\n",
       "18              Paulo Ricardo Batista\n",
       "19               Rafael Dias Mesquita\n",
       "20               Renata Schama Lellis\n",
       "21     Thiago Estevam Parente Martins\n",
       "22               Tulio Machado Fumian\n",
       "23        Win Maurits Sylvain Degrave\n",
       "Name: 0, dtype: object"
      ]
     },
     "execution_count": 15,
     "metadata": {},
     "output_type": "execute_result"
    }
   ],
   "source": [
    "result[0]"
   ]
  },
  {
   "cell_type": "code",
   "execution_count": 16,
   "metadata": {},
   "outputs": [],
   "source": [
    "with open(\"docentes.txt\", \"w\") as txt_file:\n",
    "    for line in result[0]:\n",
    "        txt_file.write(line + \"\\n\")"
   ]
  },
  {
   "cell_type": "code",
   "execution_count": null,
   "metadata": {},
   "outputs": [],
   "source": []
  }
 ],
 "metadata": {
  "kernelspec": {
   "display_name": "Python 3",
   "language": "python",
   "name": "python3"
  },
  "language_info": {
   "codemirror_mode": {
    "name": "ipython",
    "version": 3
   },
   "file_extension": ".py",
   "mimetype": "text/x-python",
   "name": "python",
   "nbconvert_exporter": "python",
   "pygments_lexer": "ipython3",
   "version": "3.6.9"
  }
 },
 "nbformat": 4,
 "nbformat_minor": 4
}
