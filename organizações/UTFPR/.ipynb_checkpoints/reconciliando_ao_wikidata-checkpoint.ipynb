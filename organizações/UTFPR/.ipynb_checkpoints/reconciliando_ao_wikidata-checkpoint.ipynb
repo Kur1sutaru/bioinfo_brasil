{
 "cells": [
  {
   "cell_type": "markdown",
   "metadata": {},
   "source": [
    "Reconciliação foi feita através do Google Sheets, usando o add-on \"Wikipedia and Wikidata Tools\"\n",
    "\n",
    "Nome completo foi utilizado como input para a função \"=WIKIDATASEARCH()\" e identificadores obtidos foram verificados com a função \"=WIKIDATADESCRIPTION\". \n",
    "\n",
    "Pesquisadores não mapeados automaticamente foram reconciliados pela plataforma Author Disambiguator.\n",
    "\n",
    "\n"
   ]
  },
  {
   "cell_type": "code",
   "execution_count": 1,
   "metadata": {},
   "outputs": [],
   "source": [
    "!  mv ~/Downloads/sandbox.xlsx ../docentes_ufpr.xslx "
   ]
  },
  {
   "cell_type": "code",
   "execution_count": 2,
   "metadata": {},
   "outputs": [],
   "source": [
    "import pandas as pd"
   ]
  },
  {
   "cell_type": "code",
   "execution_count": 5,
   "metadata": {},
   "outputs": [],
   "source": [
    "reconciliation = pd.read_excel(\"../docentes_ufpr.xslx\",sheet_name=\"reconciliation\")"
   ]
  },
  {
   "cell_type": "code",
   "execution_count": 6,
   "metadata": {},
   "outputs": [
    {
     "name": "stdout",
     "output_type": "stream",
     "text": [
      "                          nome         qid label  \\\n",
      "0             Dieval Guizelini   Q61774428    en   \n",
      "1    Emanuel Maltempi de Souza   Q43130787    en   \n",
      "2    Fabio de Oliveira Pedrosa   Q97369453    en   \n",
      "3               Helisson Faoro   Q58909285    en   \n",
      "4  Jeroniza Nunes Marchaukoski  Q105621995    en   \n",
      "\n",
      "                                      label2  \n",
      "0  researcher ORCID ID = 0000-0002-1080-8586  \n",
      "1                                 researcher  \n",
      "2                    Brazilian lichenologist  \n",
      "3  researcher ORCID ID = 0000-0002-0146-8639  \n",
      "4                                 researcher  \n"
     ]
    }
   ],
   "source": [
    "print(reconciliation.head())"
   ]
  },
  {
   "cell_type": "code",
   "execution_count": 8,
   "metadata": {},
   "outputs": [],
   "source": [
    "\n",
    "from time import gmtime, strftime\n",
    "\n",
    "def print_quickstatements(df, prop, value, url, id_column=\"qid\", date=\"today\"):\n",
    "    \"\"\"\n",
    "    From a dataframe, print a series of statements \n",
    "    for Wikidata using Quickstatements V1 syntax. \n",
    "    \n",
    "    Args:\n",
    "        df: a pandas dataframe with ids in one column\n",
    "        \n",
    "        prop: the property to state (same for all)\n",
    "        \n",
    "        value: the value to state (same for all)\n",
    "        \n",
    "        url: the reference url\n",
    "        \n",
    "        id_column: the column with the subject ids. Defaults to \"qid\".\n",
    "        \n",
    "        date: the date of retrieval of the info in ISO 8601 format.\n",
    "        Defaults to magic word \"today\".\n",
    "    \n",
    "    \"\"\"\n",
    "    for i, row in reconciliation.iterrows():\n",
    "    \n",
    "        s = row[\"qid\"]\n",
    "        p = \"|\" + prop + \"|\"\n",
    "        o = value\n",
    "        rp1 = \"|S854|\"\n",
    "        rp2 = \"|S813|\"\n",
    "        ro1 = '\"' + url + '\"'\n",
    "\n",
    "\n",
    "        if date == \"today\":\n",
    "            ro2 = strftime(\"+%Y-%m-%dT00:00:00Z/11\", gmtime())\n",
    "        else:\n",
    "            ro2 = date\n",
    "\n",
    "        print(s+p+o+rp1+ro1+rp2+ro2)    \n"
   ]
  },
  {
   "cell_type": "code",
   "execution_count": 9,
   "metadata": {},
   "outputs": [
    {
     "name": "stdout",
     "output_type": "stream",
     "text": [
      "Q61774428|P1416|Q105621954|S854|\"http://www.bioinfo.ufpr.br/docentes.html\"|S813|+2021-02-21T00:00:00Z/11\n",
      "Q43130787|P1416|Q105621954|S854|\"http://www.bioinfo.ufpr.br/docentes.html\"|S813|+2021-02-21T00:00:00Z/11\n",
      "Q97369453|P1416|Q105621954|S854|\"http://www.bioinfo.ufpr.br/docentes.html\"|S813|+2021-02-21T00:00:00Z/11\n",
      "Q58909285|P1416|Q105621954|S854|\"http://www.bioinfo.ufpr.br/docentes.html\"|S813|+2021-02-21T00:00:00Z/11\n",
      "Q105621995|P1416|Q105621954|S854|\"http://www.bioinfo.ufpr.br/docentes.html\"|S813|+2021-02-21T00:00:00Z/11\n",
      "Q56233584|P1416|Q105621954|S854|\"http://www.bioinfo.ufpr.br/docentes.html\"|S813|+2021-02-21T00:00:00Z/11\n",
      "Q89625580|P1416|Q105621954|S854|\"http://www.bioinfo.ufpr.br/docentes.html\"|S813|+2021-02-21T00:00:00Z/11\n",
      "Q41049476|P1416|Q105621954|S854|\"http://www.bioinfo.ufpr.br/docentes.html\"|S813|+2021-02-21T00:00:00Z/11\n",
      "Q88017728|P1416|Q105621954|S854|\"http://www.bioinfo.ufpr.br/docentes.html\"|S813|+2021-02-21T00:00:00Z/11\n",
      "Q105622007|P1416|Q105621954|S854|\"http://www.bioinfo.ufpr.br/docentes.html\"|S813|+2021-02-21T00:00:00Z/11\n"
     ]
    }
   ],
   "source": [
    "print_quickstatements(reconciliation, \n",
    "                      prop=\"P1416\",\n",
    "                      value=\"Q105621954\",\n",
    "                      url = \"http://www.bioinfo.ufpr.br/docentes.html\")"
   ]
  },
  {
   "cell_type": "code",
   "execution_count": null,
   "metadata": {},
   "outputs": [],
   "source": []
  }
 ],
 "metadata": {
  "kernelspec": {
   "display_name": "Python 3.6.9 64-bit",
   "language": "python",
   "name": "python36964bitd70dcd0ebb2344189de0a1765c180dbd"
  },
  "language_info": {
   "codemirror_mode": {
    "name": "ipython",
    "version": 3
   },
   "file_extension": ".py",
   "mimetype": "text/x-python",
   "name": "python",
   "nbconvert_exporter": "python",
   "pygments_lexer": "ipython3",
   "version": "3.6.9"
  }
 },
 "nbformat": 4,
 "nbformat_minor": 4
}
