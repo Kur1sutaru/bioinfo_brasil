{
 "cells": [
  {
   "cell_type": "markdown",
   "metadata": {},
   "source": [
    "Reconciliação foi feita através do Google Sheets, usando o add-on \"Wikipedia and Wikidata Tools\"\n",
    "\n",
    "Nome completo foi utilizado como input para a função \"=WIKIDATASEARCH()\" e identificadores obtidos foram verificados com a função \"=WIKIDATADESCRIPTION\". \n",
    "\n",
    "Pesquisadores não mapeados automaticamente foram reconciliados pela plataforma Author Disambiguator.\n",
    "\n",
    "\n"
   ]
  },
  {
   "cell_type": "code",
   "execution_count": 1,
   "metadata": {},
   "outputs": [],
   "source": [
    "!  mv ~/Downloads/sandbox.xlsx docentes_utfpr.xslx "
   ]
  },
  {
   "cell_type": "code",
   "execution_count": 2,
   "metadata": {},
   "outputs": [],
   "source": [
    "import pandas as pd"
   ]
  },
  {
   "cell_type": "code",
   "execution_count": 4,
   "metadata": {},
   "outputs": [],
   "source": [
    "reconciliation = pd.read_excel(\"docentes_utfpr.xslx\",sheet_name=\"reconciliation\")"
   ]
  },
  {
   "cell_type": "code",
   "execution_count": 5,
   "metadata": {},
   "outputs": [
    {
     "name": "stdout",
     "output_type": "stream",
     "text": [
      "                               nome         qid label  \\\n",
      "0          Alexandre Rossi Paschoal   Q56321016    en   \n",
      "1        André Yoshiaki Kashiwabara   Q57074284    en   \n",
      "2             Danilo Sipoli Sanches  Q105627356   NaN   \n",
      "3           Douglas Silva Domingues   Q59694314    en   \n",
      "4  Fabio Fernandes da Rocha Vicente  Q105627372   NaN   \n",
      "\n",
      "                                      label2  \n",
      "0                                 researcher  \n",
      "1                                 researcher  \n",
      "2                                        NaN  \n",
      "3  researcher ORCID ID = 0000-0002-1290-0853  \n",
      "4                                        NaN  \n"
     ]
    }
   ],
   "source": [
    "print(reconciliation.head())"
   ]
  },
  {
   "cell_type": "code",
   "execution_count": 10,
   "metadata": {},
   "outputs": [],
   "source": [
    "\n",
    "from time import gmtime, strftime\n",
    "\n",
    "def print_quickstatements(df,\n",
    "                          prop,\n",
    "                          value,\n",
    "                          url,\n",
    "                          id_column=\"qid\",\n",
    "                          date=\"today\",\n",
    "                          qualifier=\"none\",\n",
    "                          qualifier_value=\"none\"):\n",
    "    \"\"\"\n",
    "    From a dataframe, print a series of statements \n",
    "    for Wikidata using Quickstatements V1 syntax. \n",
    "    \n",
    "    Args:\n",
    "        df: a pandas dataframe with ids in one column\n",
    "        \n",
    "        prop: the property to state (same for all)\n",
    "        \n",
    "        value: the value to state (same for all)\n",
    "        \n",
    "        url: the reference url\n",
    "        \n",
    "        id_column: the column with the subject ids. Defaults to \"qid\".\n",
    "        \n",
    "        date: the date of retrieval of the info in ISO 8601 format.\n",
    "        Defaults to magic word \"today\".\n",
    "        \n",
    "        qualifier: A qualifier for the statement. Defaults to \"P2868\" (subject has role )\n",
    "        \n",
    "        role: the role in the organization. Defaults to \n",
    "    \n",
    "    \"\"\"\n",
    "    for i, row in reconciliation.iterrows():\n",
    "    \n",
    "        s = row[\"qid\"]\n",
    "        p = \"|\" + prop + \"|\"\n",
    "        o = value\n",
    "        rp1 = \"|S854|\"\n",
    "        rp2 = \"|S813|\"\n",
    "        ro1 = '\"' + url + '\"'\n",
    "\n",
    "\n",
    "        if date == \"today\":\n",
    "            ro2 = strftime(\"+%Y-%m-%dT00:00:00Z/11\", gmtime())\n",
    "        else:\n",
    "            ro2 = date\n",
    "            \n",
    "            \n",
    "        if qualifier == \"none\":\n",
    "            print(s+p+o+rp1+ro1+rp2+ro2)\n",
    "        else:\n",
    "            qp1 = \"|\" + qualifier + \"|\"\n",
    "            qo1 = qualifier_value \n",
    "            print(s+p+o+qp1+qo1+rp1+ro1+rp2+ro2)\n"
   ]
  },
  {
   "cell_type": "code",
   "execution_count": 11,
   "metadata": {},
   "outputs": [
    {
     "name": "stdout",
     "output_type": "stream",
     "text": [
      "Q56321016|P1416|Q105627310|P2868|Q121594|S854|\"http://www.utfpr.edu.br/cursos/coordenacoes/stricto-sensu/ppgbioinfo/area-academica/docentes\"|S813|+2021-02-22T00:00:00Z/11\n",
      "Q57074284|P1416|Q105627310|P2868|Q121594|S854|\"http://www.utfpr.edu.br/cursos/coordenacoes/stricto-sensu/ppgbioinfo/area-academica/docentes\"|S813|+2021-02-22T00:00:00Z/11\n",
      "Q105627356|P1416|Q105627310|P2868|Q121594|S854|\"http://www.utfpr.edu.br/cursos/coordenacoes/stricto-sensu/ppgbioinfo/area-academica/docentes\"|S813|+2021-02-22T00:00:00Z/11\n",
      "Q59694314|P1416|Q105627310|P2868|Q121594|S854|\"http://www.utfpr.edu.br/cursos/coordenacoes/stricto-sensu/ppgbioinfo/area-academica/docentes\"|S813|+2021-02-22T00:00:00Z/11\n",
      "Q105627372|P1416|Q105627310|P2868|Q121594|S854|\"http://www.utfpr.edu.br/cursos/coordenacoes/stricto-sensu/ppgbioinfo/area-academica/docentes\"|S813|+2021-02-22T00:00:00Z/11\n",
      "Q56749545|P1416|Q105627310|P2868|Q121594|S854|\"http://www.utfpr.edu.br/cursos/coordenacoes/stricto-sensu/ppgbioinfo/area-academica/docentes\"|S813|+2021-02-22T00:00:00Z/11\n",
      "Q81563965|P1416|Q105627310|P2868|Q121594|S854|\"http://www.utfpr.edu.br/cursos/coordenacoes/stricto-sensu/ppgbioinfo/area-academica/docentes\"|S813|+2021-02-22T00:00:00Z/11\n",
      "Q105627364|P1416|Q105627310|P2868|Q121594|S854|\"http://www.utfpr.edu.br/cursos/coordenacoes/stricto-sensu/ppgbioinfo/area-academica/docentes\"|S813|+2021-02-22T00:00:00Z/11\n",
      "Q59193371|P1416|Q105627310|P2868|Q121594|S854|\"http://www.utfpr.edu.br/cursos/coordenacoes/stricto-sensu/ppgbioinfo/area-academica/docentes\"|S813|+2021-02-22T00:00:00Z/11\n",
      "Q41579034|P1416|Q105627310|P2868|Q121594|S854|\"http://www.utfpr.edu.br/cursos/coordenacoes/stricto-sensu/ppgbioinfo/area-academica/docentes\"|S813|+2021-02-22T00:00:00Z/11\n",
      "Q87199457|P1416|Q105627310|P2868|Q121594|S854|\"http://www.utfpr.edu.br/cursos/coordenacoes/stricto-sensu/ppgbioinfo/area-academica/docentes\"|S813|+2021-02-22T00:00:00Z/11\n",
      "Q85476059|P1416|Q105627310|P2868|Q121594|S854|\"http://www.utfpr.edu.br/cursos/coordenacoes/stricto-sensu/ppgbioinfo/area-academica/docentes\"|S813|+2021-02-22T00:00:00Z/11\n"
     ]
    }
   ],
   "source": [
    "print_quickstatements(reconciliation, \n",
    "                      prop=\"P1416\",\n",
    "                      value=\"Q105627310\",\n",
    "                      url = \"http://www.utfpr.edu.br/cursos/coordenacoes/stricto-sensu/ppgbioinfo/area-academica/docentes\",\n",
    "                      qualifier=\"P2868\",\n",
    "                      qualifier_value=\"Q121594\")"
   ]
  },
  {
   "cell_type": "code",
   "execution_count": null,
   "metadata": {},
   "outputs": [],
   "source": []
  }
 ],
 "metadata": {
  "kernelspec": {
   "display_name": "Python 3.6.9 64-bit",
   "language": "python",
   "name": "python36964bitd70dcd0ebb2344189de0a1765c180dbd"
  },
  "language_info": {
   "codemirror_mode": {
    "name": "ipython",
    "version": 3
   },
   "file_extension": ".py",
   "mimetype": "text/x-python",
   "name": "python",
   "nbconvert_exporter": "python",
   "pygments_lexer": "ipython3",
   "version": "3.6.9"
  }
 },
 "nbformat": 4,
 "nbformat_minor": 4
}
