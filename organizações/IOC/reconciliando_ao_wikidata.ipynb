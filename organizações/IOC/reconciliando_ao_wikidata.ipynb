{
 "cells": [
  {
   "cell_type": "markdown",
   "metadata": {},
   "source": [
    "Reconciliação foi feita através do Google Sheets, usando o add-on \"Wikipedia and Wikidata Tools\"\n",
    "\n",
    "Nome completo foi utilizado como input para a função \"=WIKIDATASEARCH()\" e identificadores obtidos foram verificados com a função \"=WIKIDATADESCRIPTION\". \n",
    "\n",
    "Pesquisadores não mapeados automaticamente foram reconciliados pela plataforma Author Disambiguator.\n",
    "\n",
    "\n"
   ]
  },
  {
   "cell_type": "code",
   "execution_count": 1,
   "metadata": {},
   "outputs": [],
   "source": [
    "!  mv ~/Downloads/sandbox.xlsx docentes_ioc.xslx "
   ]
  },
  {
   "cell_type": "code",
   "execution_count": 2,
   "metadata": {},
   "outputs": [],
   "source": [
    "import pandas as pd"
   ]
  },
  {
   "cell_type": "code",
   "execution_count": 3,
   "metadata": {},
   "outputs": [],
   "source": [
    "reconciliation = pd.read_excel(\"docentes_ioc.xslx\",sheet_name=\"reconciliation\")"
   ]
  },
  {
   "cell_type": "code",
   "execution_count": 4,
   "metadata": {},
   "outputs": [
    {
     "name": "stdout",
     "output_type": "stream",
     "text": [
      "                            nome         qid label                    label2\n",
      "0   Alberto Martin Rivera Dávila   Q73155902    en                researcher\n",
      "1     Ana Carolina Paulo Vicente  Q105639292   NaN                       NaN\n",
      "2   Ana Carolina Ramos Guimarães  Q104177304    en                researcher\n",
      "3     Antonio Basílio de Miranda  Q105639370    en  resarcher at IOC/Fiocruz\n",
      "4  Daniel Antunes Maciel Villela   Q88392205    en                researcher\n"
     ]
    }
   ],
   "source": [
    "print(reconciliation.head())"
   ]
  },
  {
   "cell_type": "code",
   "execution_count": 5,
   "metadata": {},
   "outputs": [],
   "source": [
    "\n",
    "from time import gmtime, strftime\n",
    "\n",
    "def print_quickstatements(df,\n",
    "                          prop,\n",
    "                          value,\n",
    "                          url,\n",
    "                          id_column=\"qid\",\n",
    "                          date=\"today\",\n",
    "                          qualifier=\"none\",\n",
    "                          qualifier_value=\"none\"):\n",
    "    \"\"\"\n",
    "    From a dataframe, print a series of statements \n",
    "    for Wikidata using Quickstatements V1 syntax. \n",
    "    \n",
    "    Args:\n",
    "        df: a pandas dataframe with ids in one column\n",
    "        \n",
    "        prop: the property to state (same for all)\n",
    "        \n",
    "        value: the value to state (same for all)\n",
    "        \n",
    "        url: the reference url\n",
    "        \n",
    "        id_column: the column with the subject ids. Defaults to \"qid\".\n",
    "        \n",
    "        date: the date of retrieval of the info in ISO 8601 format.\n",
    "        Defaults to magic word \"today\".\n",
    "        \n",
    "        qualifier: A qualifier for the statement. Defaults to \"P2868\" (subject has role )\n",
    "        \n",
    "        role: the role in the organization. Defaults to \n",
    "    \n",
    "    \"\"\"\n",
    "    for i, row in reconciliation.iterrows():\n",
    "    \n",
    "        s = row[\"qid\"]\n",
    "        p = \"|\" + prop + \"|\"\n",
    "        o = value\n",
    "        rp1 = \"|S854|\"\n",
    "        rp2 = \"|S813|\"\n",
    "        ro1 = '\"' + url + '\"'\n",
    "\n",
    "\n",
    "        if date == \"today\":\n",
    "            ro2 = strftime(\"+%Y-%m-%dT00:00:00Z/11\", gmtime())\n",
    "        else:\n",
    "            ro2 = date\n",
    "            \n",
    "            \n",
    "        if qualifier == \"none\":\n",
    "            print(s+p+o+rp1+ro1+rp2+ro2)\n",
    "        else:\n",
    "            qp1 = \"|\" + qualifier + \"|\"\n",
    "            qo1 = qualifier_value \n",
    "            print(s+p+o+qp1+qo1+rp1+ro1+rp2+ro2)\n"
   ]
  },
  {
   "cell_type": "code",
   "execution_count": 7,
   "metadata": {},
   "outputs": [
    {
     "name": "stdout",
     "output_type": "stream",
     "text": [
      "Q73155902|P1416|Q105638978|P2868|Q121594|S854|\"https://pgbcs.ioc.fiocruz.br/perfil-e-contatos\"|S813|+2021-02-23T00:00:00Z/11\n",
      "Q105639292|P1416|Q105638978|P2868|Q121594|S854|\"https://pgbcs.ioc.fiocruz.br/perfil-e-contatos\"|S813|+2021-02-23T00:00:00Z/11\n",
      "Q104177304|P1416|Q105638978|P2868|Q121594|S854|\"https://pgbcs.ioc.fiocruz.br/perfil-e-contatos\"|S813|+2021-02-23T00:00:00Z/11\n",
      "Q105639370|P1416|Q105638978|P2868|Q121594|S854|\"https://pgbcs.ioc.fiocruz.br/perfil-e-contatos\"|S813|+2021-02-23T00:00:00Z/11\n",
      "Q88392205|P1416|Q105638978|P2868|Q121594|S854|\"https://pgbcs.ioc.fiocruz.br/perfil-e-contatos\"|S813|+2021-02-23T00:00:00Z/11\n",
      "Q88369974|P1416|Q105638978|P2868|Q121594|S854|\"https://pgbcs.ioc.fiocruz.br/perfil-e-contatos\"|S813|+2021-02-23T00:00:00Z/11\n",
      "Q102400304|P1416|Q105638978|P2868|Q121594|S854|\"https://pgbcs.ioc.fiocruz.br/perfil-e-contatos\"|S813|+2021-02-23T00:00:00Z/11\n",
      "Q92370849|P1416|Q105638978|P2868|Q121594|S854|\"https://pgbcs.ioc.fiocruz.br/perfil-e-contatos\"|S813|+2021-02-23T00:00:00Z/11\n",
      "Q37368437|P1416|Q105638978|P2868|Q121594|S854|\"https://pgbcs.ioc.fiocruz.br/perfil-e-contatos\"|S813|+2021-02-23T00:00:00Z/11\n",
      "Q56514273|P1416|Q105638978|P2868|Q121594|S854|\"https://pgbcs.ioc.fiocruz.br/perfil-e-contatos\"|S813|+2021-02-23T00:00:00Z/11\n",
      "Q105639409|P1416|Q105638978|P2868|Q121594|S854|\"https://pgbcs.ioc.fiocruz.br/perfil-e-contatos\"|S813|+2021-02-23T00:00:00Z/11\n",
      "Q82932504|P1416|Q105638978|P2868|Q121594|S854|\"https://pgbcs.ioc.fiocruz.br/perfil-e-contatos\"|S813|+2021-02-23T00:00:00Z/11\n",
      "Q105639441|P1416|Q105638978|P2868|Q121594|S854|\"https://pgbcs.ioc.fiocruz.br/perfil-e-contatos\"|S813|+2021-02-23T00:00:00Z/11\n",
      "Q56332652|P1416|Q105638978|P2868|Q121594|S854|\"https://pgbcs.ioc.fiocruz.br/perfil-e-contatos\"|S813|+2021-02-23T00:00:00Z/11\n",
      "Q105639497|P1416|Q105638978|P2868|Q121594|S854|\"https://pgbcs.ioc.fiocruz.br/perfil-e-contatos\"|S813|+2021-02-23T00:00:00Z/11\n",
      "Q105639517|P1416|Q105638978|P2868|Q121594|S854|\"https://pgbcs.ioc.fiocruz.br/perfil-e-contatos\"|S813|+2021-02-23T00:00:00Z/11\n",
      "Q42774350|P1416|Q105638978|P2868|Q121594|S854|\"https://pgbcs.ioc.fiocruz.br/perfil-e-contatos\"|S813|+2021-02-23T00:00:00Z/11\n",
      "Q40595529|P1416|Q105638978|P2868|Q121594|S854|\"https://pgbcs.ioc.fiocruz.br/perfil-e-contatos\"|S813|+2021-02-23T00:00:00Z/11\n",
      "Q58189329|P1416|Q105638978|P2868|Q121594|S854|\"https://pgbcs.ioc.fiocruz.br/perfil-e-contatos\"|S813|+2021-02-23T00:00:00Z/11\n",
      "Q56562394|P1416|Q105638978|P2868|Q121594|S854|\"https://pgbcs.ioc.fiocruz.br/perfil-e-contatos\"|S813|+2021-02-23T00:00:00Z/11\n",
      "Q105639570|P1416|Q105638978|P2868|Q121594|S854|\"https://pgbcs.ioc.fiocruz.br/perfil-e-contatos\"|S813|+2021-02-23T00:00:00Z/11\n",
      "Q105639585|P1416|Q105638978|P2868|Q121594|S854|\"https://pgbcs.ioc.fiocruz.br/perfil-e-contatos\"|S813|+2021-02-23T00:00:00Z/11\n",
      "Q96809349|P1416|Q105638978|P2868|Q121594|S854|\"https://pgbcs.ioc.fiocruz.br/perfil-e-contatos\"|S813|+2021-02-23T00:00:00Z/11\n",
      "Q32644675|P1416|Q105638978|P2868|Q121594|S854|\"https://pgbcs.ioc.fiocruz.br/perfil-e-contatos\"|S813|+2021-02-23T00:00:00Z/11\n"
     ]
    }
   ],
   "source": [
    "print_quickstatements(reconciliation, \n",
    "                      prop=\"P1416\",\n",
    "                      value=\"Q105638978\",\n",
    "                      url = \"https://pgbcs.ioc.fiocruz.br/perfil-e-contatos\",\n",
    "                      qualifier=\"P2868\",\n",
    "                      qualifier_value=\"Q121594\")"
   ]
  },
  {
   "cell_type": "code",
   "execution_count": null,
   "metadata": {},
   "outputs": [],
   "source": []
  }
 ],
 "metadata": {
  "kernelspec": {
   "display_name": "Python 3.6.9 64-bit",
   "language": "python",
   "name": "python36964bitd70dcd0ebb2344189de0a1765c180dbd"
  },
  "language_info": {
   "codemirror_mode": {
    "name": "ipython",
    "version": 3
   },
   "file_extension": ".py",
   "mimetype": "text/x-python",
   "name": "python",
   "nbconvert_exporter": "python",
   "pygments_lexer": "ipython3",
   "version": "3.6.9"
  }
 },
 "nbformat": 4,
 "nbformat_minor": 4
}
