{
 "cells": [
  {
   "cell_type": "code",
   "execution_count": 1,
   "metadata": {},
   "outputs": [],
   "source": [
    "from bs4 import BeautifulSoup\n",
    "\n",
    "import requests\n",
    "page = requests.get(\"http://www.utfpr.edu.br/cursos/coordenacoes/stricto-sensu/ppgbioinfo/area-academica/docentes\")\n",
    "soup = BeautifulSoup(page.content, 'html.parser')"
   ]
  },
  {
   "cell_type": "code",
   "execution_count": 13,
   "metadata": {},
   "outputs": [
    {
     "name": "stdout",
     "output_type": "stream",
     "text": [
      "Alexandre Rossi Paschoal\n",
      "André Yoshiaki Kashiwabara\n",
      "Danilo Sipoli Sanches\n",
      "Douglas Silva Domingues\n",
      "Fabio Fernandes da Rocha Vicente\n",
      "Fabricio Martins Lopes\n",
      "Francismar Corrêa Marcelino-Guimaraes\n",
      "Laurival Antonio Vilas-Boas\n",
      "Luiz Filipe Protasio Pereira\n",
      "Mariangela Hungria da Cunha\n",
      "Pedro Henrique Bugatti\n",
      "Priscila Tiemi Maeda Saito\n"
     ]
    }
   ],
   "source": [
    "prof_table = soup.find_all(\"a\", href=True)\n",
    "\n",
    "profs=[]\n",
    "for elem in prof_table:\n",
    "    if \"lattes\" in elem['href']:\n",
    "        print(elem.text)\n",
    "        profs.append(elem.text)  \n",
    "\n"
   ]
  },
  {
   "cell_type": "code",
   "execution_count": 14,
   "metadata": {},
   "outputs": [],
   "source": [
    "with open(\"docentes.txt\", \"w\") as txt_file:\n",
    "    for line in profs:\n",
    "        txt_file.write(line + \"\\n\")"
   ]
  },
  {
   "cell_type": "code",
   "execution_count": null,
   "metadata": {},
   "outputs": [],
   "source": []
  }
 ],
 "metadata": {
  "kernelspec": {
   "display_name": "Python 3",
   "language": "python",
   "name": "python3"
  },
  "language_info": {
   "codemirror_mode": {
    "name": "ipython",
    "version": 3
   },
   "file_extension": ".py",
   "mimetype": "text/x-python",
   "name": "python",
   "nbconvert_exporter": "python",
   "pygments_lexer": "ipython3",
   "version": "3.6.9"
  }
 },
 "nbformat": 4,
 "nbformat_minor": 4
}
